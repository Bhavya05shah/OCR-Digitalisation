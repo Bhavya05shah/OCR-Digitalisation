{
  "nbformat": 4,
  "nbformat_minor": 0,
  "metadata": {
    "colab": {
      "provenance": [],
      "authorship_tag": "ABX9TyOA9gDqKya6MbhSVeHLtHFI",
      "include_colab_link": true
    },
    "kernelspec": {
      "name": "python3",
      "display_name": "Python 3"
    },
    "language_info": {
      "name": "python"
    }
  },
  "cells": [
    {
      "cell_type": "markdown",
      "metadata": {
        "id": "view-in-github",
        "colab_type": "text"
      },
      "source": [
        "<a href=\"https://colab.research.google.com/github/Bhavya05shah/OCR-Digitalisation/blob/main/easyOCR.ipynb\" target=\"_parent\"><img src=\"https://colab.research.google.com/assets/colab-badge.svg\" alt=\"Open In Colab\"/></a>"
      ]
    },
    {
      "cell_type": "code",
      "execution_count": null,
      "metadata": {
        "id": "iP2gHmdysMM0",
        "colab": {
          "base_uri": "https://localhost:8080/",
          "height": 428
        },
        "outputId": "7b847ed8-45d2-402e-def1-22686b650441",
        "collapsed": true
      },
      "outputs": [
        {
          "output_type": "stream",
          "name": "stdout",
          "text": [
            "[[  0   0   0 ...   0   0   0]\n",
            " [  0   0   0 ...   0   0   0]\n",
            " [  0   0   0 ...   0   0   0]\n",
            " ...\n",
            " [  0   0   0 ...   0   0 255]\n",
            " [  0   0   0 ...   0   0 255]\n",
            " [255 255 255 ... 255 255 255]]\n"
          ]
        },
        {
          "output_type": "error",
          "ename": "TypeError",
          "evalue": "cv2_imshow() takes 1 positional argument but 2 were given",
          "traceback": [
            "\u001b[0;31m---------------------------------------------------------------------------\u001b[0m",
            "\u001b[0;31mTypeError\u001b[0m                                 Traceback (most recent call last)",
            "\u001b[0;32m<ipython-input-14-5008b116cf88>\u001b[0m in \u001b[0;36m<cell line: 45>\u001b[0;34m()\u001b[0m\n\u001b[1;32m     43\u001b[0m \u001b[0mimage\u001b[0m  \u001b[0;34m=\u001b[0m \u001b[0mcv2\u001b[0m\u001b[0;34m.\u001b[0m\u001b[0mimread\u001b[0m\u001b[0;34m(\u001b[0m\u001b[0;34m\"/content/OCRexp2.png\"\u001b[0m\u001b[0;34m)\u001b[0m\u001b[0;34m\u001b[0m\u001b[0;34m\u001b[0m\u001b[0m\n\u001b[1;32m     44\u001b[0m \u001b[0mgray\u001b[0m \u001b[0;34m=\u001b[0m \u001b[0mcv2\u001b[0m\u001b[0;34m.\u001b[0m\u001b[0mcvtColor\u001b[0m\u001b[0;34m(\u001b[0m\u001b[0mimage\u001b[0m\u001b[0;34m,\u001b[0m \u001b[0mcv2\u001b[0m\u001b[0;34m.\u001b[0m\u001b[0mCOLOR_BGR2GRAY\u001b[0m\u001b[0;34m)\u001b[0m\u001b[0;34m\u001b[0m\u001b[0;34m\u001b[0m\u001b[0m\n\u001b[0;32m---> 45\u001b[0;31m \u001b[0mrandom\u001b[0m\u001b[0;34m(\u001b[0m\u001b[0mgray\u001b[0m\u001b[0;34m)\u001b[0m\u001b[0;34m\u001b[0m\u001b[0;34m\u001b[0m\u001b[0m\n\u001b[0m\u001b[1;32m     46\u001b[0m \u001b[0;34m\u001b[0m\u001b[0m\n",
            "\u001b[0;32m<ipython-input-14-5008b116cf88>\u001b[0m in \u001b[0;36mrandom\u001b[0;34m(image_grayscale)\u001b[0m\n\u001b[1;32m     37\u001b[0m             \u001b[0mnew_grid\u001b[0m\u001b[0;34m[\u001b[0m\u001b[0;34m:\u001b[0m\u001b[0;36m170\u001b[0m\u001b[0;34m,\u001b[0m \u001b[0;34m:\u001b[0m\u001b[0;34m]\u001b[0m \u001b[0;34m=\u001b[0m \u001b[0;36m0\u001b[0m\u001b[0;34m\u001b[0m\u001b[0;34m\u001b[0m\u001b[0m\n\u001b[1;32m     38\u001b[0m             \u001b[0mprint\u001b[0m\u001b[0;34m(\u001b[0m\u001b[0mnew_grid\u001b[0m\u001b[0;34m)\u001b[0m\u001b[0;34m\u001b[0m\u001b[0;34m\u001b[0m\u001b[0m\n\u001b[0;32m---> 39\u001b[0;31m             \u001b[0mcv2_imshow\u001b[0m\u001b[0;34m(\u001b[0m\u001b[0;34m\"grid\"\u001b[0m\u001b[0;34m,\u001b[0m \u001b[0mnew_grid\u001b[0m\u001b[0;34m)\u001b[0m\u001b[0;34m\u001b[0m\u001b[0;34m\u001b[0m\u001b[0m\n\u001b[0m\u001b[1;32m     40\u001b[0m             \u001b[0mcv2\u001b[0m\u001b[0;34m.\u001b[0m\u001b[0mwaitKey\u001b[0m\u001b[0;34m(\u001b[0m\u001b[0;36m0\u001b[0m\u001b[0;34m)\u001b[0m\u001b[0;34m\u001b[0m\u001b[0;34m\u001b[0m\u001b[0m\n\u001b[1;32m     41\u001b[0m             \u001b[0mcv2\u001b[0m\u001b[0;34m.\u001b[0m\u001b[0mdestroyAllWindows\u001b[0m\u001b[0;34m(\u001b[0m\u001b[0;34m)\u001b[0m\u001b[0;34m\u001b[0m\u001b[0;34m\u001b[0m\u001b[0m\n",
            "\u001b[0;31mTypeError\u001b[0m: cv2_imshow() takes 1 positional argument but 2 were given"
          ]
        }
      ],
      "source": [
        "import cv2\n",
        "import easyocr\n",
        "import numpy as np\n",
        "import pandas as pd\n",
        "\n",
        "# Initialize the EasyOCR reader\n",
        "reader = easyocr.Reader(['hi'])\n",
        "\n",
        "# Step 1: Load the image\n",
        "image = cv2.imread('OCRexp1.png')\n",
        "\n",
        "# Step 2: Convert to grayscale and apply thresholding\n",
        "gray = cv2.cvtColor(image, cv2.COLOR_BGR2GRAY)\n",
        "_, binary = cv2.threshold(gray, 128, 255, cv2.THRESH_BINARY_INV)\n",
        "\n",
        "# Step 3: Detect table lines using morphological operations\n",
        "kernel = np.ones((1, 5), np.uint8)  # Horizontal kernel for detecting horizontal lines\n",
        "horizontal_lines = cv2.morphologyEx(binary, cv2.MORPH_OPEN, kernel)\n",
        "\n",
        "kernel = np.ones((5, 1), np.uint8)  # Vertical kernel for detecting vertical lines\n",
        "vertical_lines = cv2.morphologyEx(binary, cv2.MORPH_OPEN, kernel)\n",
        "\n",
        "# Combine horizontal and vertical lines to get the table structure\n",
        "table_structure = cv2.add(horizontal_lines, vertical_lines)\n",
        "\n",
        "# Step 4: Detect and extract table cells\n",
        "# Use contours to detect individual cells\n",
        "contours, _ = cv2.findContours(table_structure, cv2.RETR_EXTERNAL, cv2.CHAIN_APPROX_SIMPLE)\n",
        "\n",
        "# Sort contours (optional, but may help in extracting cells in correct order)\n",
        "contours = sorted(contours, key=lambda c: cv2.boundingRect(c)[1])  # Sort by y-coordinate first\n",
        "\n",
        "table_data = []\n",
        "for cnt in contours:\n",
        "    x, y, w, h = cv2.boundingRect(cnt)\n",
        "    cell = image[y:y+h, x:x+w]\n",
        "\n",
        "    # Extract text using easyocr\n",
        "    result = reader.readtext(cell, detail=0)\n",
        "    if result:\n",
        "        text = ' '.join(result)  # Join text if multiple results\n",
        "    else:\n",
        "        text = ''\n",
        "\n",
        "    table_data.append(text.strip())\n",
        "\n",
        "# Here we assume the table has a consistent number of columns.\n",
        "# If needed, manually define n_cols based on the image structure.\n",
        "n_cols = 5  # Example: Assuming 5 columns in the table\n",
        "\n",
        "# Into a 2D array\n",
        "table_array = np.array(table_data).reshape(-1, n_cols)\n",
        "\n",
        "df = pd.DataFrame(table_array)\n",
        "\n",
        "df.to_csv('digital_health_record.csv', index=False)\n",
        "\n",
        "print(df)\n",
        "\n",
        "\n"
      ]
    },
    {
      "cell_type": "markdown",
      "source": [
        "# New Section"
      ],
      "metadata": {
        "id": "RAQNaXbZs5sd"
      }
    }
  ]
}